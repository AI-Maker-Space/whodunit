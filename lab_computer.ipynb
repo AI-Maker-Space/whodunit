{
 "cells": [
  {
   "cell_type": "markdown",
   "metadata": {},
   "source": [
    "# Welcome to the Police Station Lab Computer\n",
    "\n",
    "Let's use the computer, and the data it contains, to see if we can't crack this mystery."
   ]
  },
  {
   "cell_type": "markdown",
   "metadata": {},
   "source": [
    "## Gathering Information on Addresses for \"Annabel\"\n",
    "\n",
    "First thing to do, is load up the people `.csv` - we'll notice that it's separated by tabs (`\\t`) and there's some comments (`#`), so let's take those into consideration. "
   ]
  },
  {
   "cell_type": "code",
   "execution_count": 63,
   "metadata": {},
   "outputs": [],
   "source": [
    "people_dataframe = pd.read_csv('./data/people/people.csv', comment='#', sep='\\t')"
   ]
  },
  {
   "cell_type": "code",
   "execution_count": 64,
   "metadata": {},
   "outputs": [
    {
     "data": {
      "text/html": [
       "<div>\n",
       "<style scoped>\n",
       "    .dataframe tbody tr th:only-of-type {\n",
       "        vertical-align: middle;\n",
       "    }\n",
       "\n",
       "    .dataframe tbody tr th {\n",
       "        vertical-align: top;\n",
       "    }\n",
       "\n",
       "    .dataframe thead th {\n",
       "        text-align: right;\n",
       "    }\n",
       "</style>\n",
       "<table border=\"1\" class=\"dataframe\">\n",
       "  <thead>\n",
       "    <tr style=\"text-align: right;\">\n",
       "      <th></th>\n",
       "      <th>name</th>\n",
       "      <th>gender</th>\n",
       "      <th>age</th>\n",
       "      <th>address</th>\n",
       "    </tr>\n",
       "  </thead>\n",
       "  <tbody>\n",
       "    <tr>\n",
       "      <th>0</th>\n",
       "      <td>Alicia Fuentes</td>\n",
       "      <td>F</td>\n",
       "      <td>48</td>\n",
       "      <td>Walton Street, line 433</td>\n",
       "    </tr>\n",
       "    <tr>\n",
       "      <th>1</th>\n",
       "      <td>Jo-Ting Losev</td>\n",
       "      <td>F</td>\n",
       "      <td>46</td>\n",
       "      <td>Hemenway Street, line 390</td>\n",
       "    </tr>\n",
       "    <tr>\n",
       "      <th>2</th>\n",
       "      <td>Elena Edmonds</td>\n",
       "      <td>F</td>\n",
       "      <td>58</td>\n",
       "      <td>Elmwood Avenue, line 123</td>\n",
       "    </tr>\n",
       "    <tr>\n",
       "      <th>3</th>\n",
       "      <td>Naydene Cabral</td>\n",
       "      <td>F</td>\n",
       "      <td>46</td>\n",
       "      <td>Winthrop Street, line 454</td>\n",
       "    </tr>\n",
       "    <tr>\n",
       "      <th>4</th>\n",
       "      <td>Dato Rosengren</td>\n",
       "      <td>M</td>\n",
       "      <td>22</td>\n",
       "      <td>Mystic Street, line 477</td>\n",
       "    </tr>\n",
       "  </tbody>\n",
       "</table>\n",
       "</div>"
      ],
      "text/plain": [
       "             name gender  age                    address\n",
       "0  Alicia Fuentes      F   48    Walton Street, line 433\n",
       "1   Jo-Ting Losev      F   46  Hemenway Street, line 390\n",
       "2   Elena Edmonds      F   58   Elmwood Avenue, line 123\n",
       "3  Naydene Cabral      F   46  Winthrop Street, line 454\n",
       "4  Dato Rosengren      M   22    Mystic Street, line 477"
      ]
     },
     "execution_count": 64,
     "metadata": {},
     "output_type": "execute_result"
    }
   ],
   "source": [
    "people_dataframe.head()"
   ]
  },
  {
   "cell_type": "markdown",
   "metadata": {},
   "source": [
    "Let's see if we can find out where this \"spiky haired\" Annabel lives! Remember what we know about this person from the clues we've looked at so far!"
   ]
  },
  {
   "cell_type": "code",
   "execution_count": 65,
   "metadata": {},
   "outputs": [
    {
     "data": {
      "text/html": [
       "<div>\n",
       "<style scoped>\n",
       "    .dataframe tbody tr th:only-of-type {\n",
       "        vertical-align: middle;\n",
       "    }\n",
       "\n",
       "    .dataframe tbody tr th {\n",
       "        vertical-align: top;\n",
       "    }\n",
       "\n",
       "    .dataframe thead th {\n",
       "        text-align: right;\n",
       "    }\n",
       "</style>\n",
       "<table border=\"1\" class=\"dataframe\">\n",
       "  <thead>\n",
       "    <tr style=\"text-align: right;\">\n",
       "      <th></th>\n",
       "      <th>name</th>\n",
       "      <th>gender</th>\n",
       "      <th>age</th>\n",
       "      <th>address</th>\n",
       "    </tr>\n",
       "  </thead>\n",
       "  <tbody>\n",
       "    <tr>\n",
       "      <th>269</th>\n",
       "      <td>Annabel Sun</td>\n",
       "      <td>F</td>\n",
       "      <td>26</td>\n",
       "      <td>Hart Place, line 40</td>\n",
       "    </tr>\n",
       "    <tr>\n",
       "      <th>1661</th>\n",
       "      <td>Annabel Church</td>\n",
       "      <td>F</td>\n",
       "      <td>38</td>\n",
       "      <td>Buckingham Place, line 179</td>\n",
       "    </tr>\n",
       "  </tbody>\n",
       "</table>\n",
       "</div>"
      ],
      "text/plain": [
       "                name gender  age                     address\n",
       "269      Annabel Sun      F   26         Hart Place, line 40\n",
       "1661  Annabel Church      F   38  Buckingham Place, line 179"
      ]
     },
     "execution_count": 65,
     "metadata": {},
     "output_type": "execute_result"
    }
   ],
   "source": [
    "row = people_dataframe[(people_dataframe['name'].str.contains('Annabel')) & (people_dataframe['gender'] == 'F')]\n",
    "row.head()"
   ]
  },
  {
   "cell_type": "markdown",
   "metadata": {},
   "source": [
    "## Time for more investigation!\n",
    "\n",
    "You'll need to hit the streets before you can pull up any relevant interviews, come back when you've knocked on the doors on the addresses you found!"
   ]
  },
  {
   "cell_type": "markdown",
   "metadata": {},
   "source": [
    "## Checking out the interviews\n",
    "\n",
    "Now that you have the interviews you want to check out, let's see what they say!\n",
    "\n"
   ]
  },
  {
   "cell_type": "code",
   "execution_count": null,
   "metadata": {},
   "outputs": [],
   "source": []
  },
  {
   "cell_type": "markdown",
   "metadata": {},
   "source": [
    "## Gathering Information on Memberships\n",
    "\n",
    "We have data from the following memberships on file:\n",
    "\n",
    "1. `AAA`\n",
    "2. `AAdvantage`\n",
    "3. `Costco`\n",
    "4. `Delta_SkyMiles`\n",
    "5. `Fitness_Galaxy`\n",
    "6. `Museum_of_Bash_History`\n",
    "7. `REI`\n",
    "8. `Rotary_Club`\n",
    "9. `TCSU_Alumni_Association`\n",
    "10. `Terminal_City_Library`\n",
    "11. `United_MileagePlus`\n",
    "\n",
    "From the evidence collected, input the memberships that the suspect held."
   ]
  },
  {
   "cell_type": "code",
   "execution_count": 27,
   "metadata": {},
   "outputs": [],
   "source": [
    "memberships = [\n",
    "    \"AAA\",\n",
    "    \"Delta_SkyMiles\",\n",
    "    \"Terminal_City_Library\",\n",
    "    \"Museum_of_Bash_History\",\n",
    "]"
   ]
  },
  {
   "cell_type": "markdown",
   "metadata": {},
   "source": [
    "We're going to be using a combination of `glob` and `os` again! Because those libraries should already be imported, we doon't need to import them again!"
   ]
  },
  {
   "cell_type": "code",
   "execution_count": null,
   "metadata": {},
   "outputs": [],
   "source": [
    "files = os.path.join('./data/memberships/', '*.csv')\n",
    "files = glob.glob(files)\n",
    "print(files)"
   ]
  },
  {
   "cell_type": "markdown",
   "metadata": {},
   "source": [
    "Next we'll combine these `.csv` files together into a list of `pandas.DataFrame`s (read more about those [here](https://pandas.pydata.org/docs/reference/api/pandas.DataFrame.html))"
   ]
  },
  {
   "cell_type": "code",
   "execution_count": 38,
   "metadata": {},
   "outputs": [],
   "source": [
    "import pandas as pd\n",
    "\n",
    "membership_dataframe_list = [pd.read_csv(file) for file in files if pd.read_csv(file).columns in memberships]\n",
    "\n",
    "# change column names to 'name'\n",
    "for membership_dataframe in membership_dataframe_list:\n",
    "    membership_dataframe.rename(columns={membership_dataframe.columns[0]: 'name'}, inplace=True)"
   ]
  },
  {
   "cell_type": "markdown",
   "metadata": {},
   "source": [
    "Now, we'll find the intersection of the memberships using `pandas.merge` (read about it [here](https://pandas.pydata.org/docs/reference/api/pandas.merge.html)) on the list of dataframes.\n",
    "\n",
    "We're using `reduce` from functools (read about it [here](https://www.geeksforgeeks.org/reduce-in-python/)) to perform the `pandas.merge` operation on a number of `pandas.DataFrame`s."
   ]
  },
  {
   "cell_type": "code",
   "execution_count": 39,
   "metadata": {},
   "outputs": [],
   "source": [
    "from functools import reduce\n",
    "\n",
    "result_dataframe = reduce(lambda x, y: pd.merge(x, y, how='inner'), membership_dataframe_list)"
   ]
  },
  {
   "cell_type": "markdown",
   "metadata": {},
   "source": [
    "Let's save this information for later in a file called `membership_names.csv`"
   ]
  },
  {
   "cell_type": "code",
   "execution_count": 72,
   "metadata": {},
   "outputs": [],
   "source": [
    "result_dataframe.to_csv('membership_names.csv')"
   ]
  },
  {
   "cell_type": "markdown",
   "metadata": {},
   "source": []
  }
 ],
 "metadata": {
  "interpreter": {
   "hash": "bcdf201f24e257f467fd4a7d432b9f0f9f6cb06c8ac8b6a6b18abfe884d9f61a"
  },
  "kernelspec": {
   "display_name": "Python 3.8.13 ('mle-course')",
   "language": "python",
   "name": "python3"
  },
  "language_info": {
   "codemirror_mode": {
    "name": "ipython",
    "version": 3
   },
   "file_extension": ".py",
   "mimetype": "text/x-python",
   "name": "python",
   "nbconvert_exporter": "python",
   "pygments_lexer": "ipython3",
   "version": "3.8.13"
  },
  "orig_nbformat": 4
 },
 "nbformat": 4,
 "nbformat_minor": 2
}
